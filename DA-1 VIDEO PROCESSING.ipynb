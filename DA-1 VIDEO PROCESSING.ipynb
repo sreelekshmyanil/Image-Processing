{
 "cells": [
  {
   "cell_type": "markdown",
   "id": "f18221d7",
   "metadata": {},
   "source": [
    "# FULL IMPLEMENTATION USING PYTHON:"
   ]
  },
  {
   "cell_type": "code",
   "execution_count": 12,
   "id": "476dc0e1",
   "metadata": {},
   "outputs": [],
   "source": [
    "# importing libraries\n",
    "import cv2\n",
    "import numpy as np\n",
    "from PIL import Image\n",
    "import random\n",
    "from matplotlib import pyplot as plt\n",
    "from skimage.util import random_noise\n",
    "from IPython.display import Image as imvis\n",
    "from IPython.display import Video\n",
    "import os\n",
    "from os.path import isfile, join"
   ]
  },
  {
   "cell_type": "markdown",
   "id": "3571fd2b",
   "metadata": {},
   "source": [
    "# 1. Load Video and Add Noise"
   ]
  },
  {
   "cell_type": "code",
   "execution_count": 13,
   "id": "5db2a47f",
   "metadata": {},
   "outputs": [
    {
     "data": {
      "text/html": [
       "<video src=\"demo.mp4\" controls  >\n",
       "      Your browser does not support the <code>video</code> element.\n",
       "    </video>"
      ],
      "text/plain": [
       "<IPython.core.display.Video object>"
      ]
     },
     "execution_count": 13,
     "metadata": {},
     "output_type": "execute_result"
    }
   ],
   "source": [
    "Video(\"demo.mp4\")"
   ]
  },
  {
   "cell_type": "code",
   "execution_count": 14,
   "id": "52d0eede",
   "metadata": {},
   "outputs": [],
   "source": [
    "#Function for adding Gaussian and Impulse noise\n",
    "def noisy(noise_typ,img):\n",
    "    if noise_typ == \"gauss\":\n",
    "         # Generate Gaussian noise\n",
    "        gauss = np.random.normal(0,1,img.size)\n",
    "        gauss = gauss.reshape(img.shape[0],img.shape[1],img.shape[2]).astype('uint8')\n",
    "        # Add the Gaussian noise to the image\n",
    "        img_gauss = cv2.add(img,gauss)\n",
    "        return img_gauss\n",
    "    elif noise_typ == \"s&p\":\n",
    "        # Add salt-and-pepper noise to the image.\n",
    "        noise_img = random_noise(img, mode='s&p',amount=0.2)\n",
    "\n",
    "        # The above function returns a floating-point image\n",
    "        # on the range [0, 1], thus we changed it to 'uint8'\n",
    "        # and from [0,255]\n",
    "        noise_img = np.array(255*noise_img, dtype = 'uint8')\n",
    "        return noise_img"
   ]
  },
  {
   "cell_type": "code",
   "execution_count": 15,
   "id": "dce7889b",
   "metadata": {},
   "outputs": [
    {
     "name": "stdout",
     "output_type": "stream",
     "text": [
      "Adding noise....\n",
      "Noise added\n"
     ]
    }
   ],
   "source": [
    "# Read the video from specified path\n",
    "cam = cv2.VideoCapture('demo.mp4')\n",
    "  \n",
    "# frame\n",
    "currentframe = 0\n",
    "\n",
    "print(\"Adding noise....\")\n",
    "while(True):\n",
    "      \n",
    "    # reading from frame\n",
    "    ret,frame = cam.read()\n",
    "\n",
    "  \n",
    "    if ret:\n",
    "        # if video is still left continue creating images\n",
    "        name = r\"C:\\Users\\sree\\Desktop\\Fastrack\\Image Processing\\DA-1\\frames\\frame\" + str(currentframe) + '.jpg'\n",
    "        #print ('Creating frame number ' + str(currentframe))\n",
    "  \n",
    "        # writing the extracted images\n",
    "        cv2.imwrite(name, frame)\n",
    "  \n",
    "        \n",
    "        #Adding Noise\n",
    "\n",
    "        #Add Gaussian noise\n",
    "        img1 = noisy(\"gauss\",frame)\n",
    "        #Add SNP Noise\n",
    "        img2 = noisy(\"s&p\",img1)\n",
    "\n",
    "        #save file\n",
    "        name = r\"C:\\Users\\sree\\Desktop\\Fastrack\\Image Processing\\DA-1\\Noise\\noise\\frame\" + str(currentframe) + '.jpg'\n",
    "\n",
    "        # writing the extracted images\n",
    "        cv2.imwrite(name, img2)\n",
    "        \n",
    "        #increasing counter so that it will\n",
    "        # show how many frames are created\n",
    "        currentframe += 1\n",
    "          \n",
    "    else:\n",
    "        break\n",
    "# Release all space and windows once done\n",
    "cam.release()\n",
    "cv2.destroyAllWindows()\n",
    "\n",
    "print(\"Noise added\")"
   ]
  },
  {
   "cell_type": "code",
   "execution_count": 45,
   "id": "7842118e",
   "metadata": {},
   "outputs": [],
   "source": [
    "#Video file\n",
    "def convert_frames_to_video(pathIn,pathOut,fps):\n",
    "    frame_array = []\n",
    "    files = [f for f in os.listdir(pathIn) if isfile(join(pathIn, f))]\n",
    "    #for sorting the file names properly\n",
    "    files.sort(key = lambda x: int(x[5:-4]))\n",
    "    for i in range(len(files)):\n",
    "        filename=pathIn + files[i]\n",
    "        #reading each files\n",
    "        img = cv2.imread(filename)\n",
    "        height, width, layers = img.shape\n",
    "        size = (width,height)\n",
    "        #inserting the frames into an image array\n",
    "        frame_array.append(img)\n",
    "    out = cv2.VideoWriter(pathOut,cv2.VideoWriter_fourcc(*'DIVX'), fps, size)\n",
    "    for i in range(len(frame_array)):\n",
    "        # writing to a image array\n",
    "        out.write(frame_array[i])\n",
    "    out.release()"
   ]
  },
  {
   "cell_type": "code",
   "execution_count": 17,
   "id": "ec0f03ff",
   "metadata": {},
   "outputs": [
    {
     "name": "stdout",
     "output_type": "stream",
     "text": [
      "Processing video file...\n"
     ]
    }
   ],
   "source": [
    "pathIn = r\"C:\\Users\\sree\\Desktop\\Fastrack\\Image Processing\\DA-1\\Noise\\noise\\\\\"\n",
    "pathOut = \"noisyvideo.mp4\"\n",
    "fps = 25.0\n",
    "print(\"Processing video file...\")\n",
    "convert_frames_to_video(pathIn,pathOut,fps)"
   ]
  },
  {
   "cell_type": "code",
   "execution_count": 18,
   "id": "50aee058",
   "metadata": {},
   "outputs": [
    {
     "data": {
      "text/html": [
       "<video src=\"noisyvideo.mp4\" controls  >\n",
       "      Your browser does not support the <code>video</code> element.\n",
       "    </video>"
      ],
      "text/plain": [
       "<IPython.core.display.Video object>"
      ]
     },
     "execution_count": 18,
     "metadata": {},
     "output_type": "execute_result"
    }
   ],
   "source": [
    "Video(\"noisyvideo.mp4\")"
   ]
  },
  {
   "cell_type": "markdown",
   "id": "52e6186e",
   "metadata": {},
   "source": [
    "# 2. Load Video affected with Noise and Apply de-noising Techniques"
   ]
  },
  {
   "cell_type": "code",
   "execution_count": 19,
   "id": "9994cd35",
   "metadata": {},
   "outputs": [],
   "source": [
    "#MEDIAN FILTER FOR IMPULSE NOISE\n",
    "#GAUSSIAN BLUR FOR GAUSSIAN NOISE"
   ]
  },
  {
   "cell_type": "markdown",
   "id": "65b334da",
   "metadata": {},
   "source": [
    "# Function to implement Median filter"
   ]
  },
  {
   "cell_type": "code",
   "execution_count": 24,
   "id": "d0c4dda7",
   "metadata": {},
   "outputs": [],
   "source": [
    "#median blur\n",
    "def median_filter(data, filter_size):\n",
    "    temp = []\n",
    "    indexer = filter_size // 2\n",
    "    data_final = []\n",
    "    data_final = np.zeros((len(data),len(data[0])))\n",
    "    for i in range(len(data)):\n",
    "\n",
    "        for j in range(len(data[0])):\n",
    "\n",
    "            for z in range(filter_size):\n",
    "                if i + z - indexer < 0 or i + z - indexer > len(data) - 1:\n",
    "                    for c in range(filter_size):\n",
    "                        temp.append(0)\n",
    "                else:\n",
    "                    if j + z - indexer < 0 or j + indexer > len(data[0]) - 1:\n",
    "                        temp.append(0)\n",
    "                    else:\n",
    "                        for k in range(filter_size):\n",
    "                            temp.append(data[i + z - indexer][j + k - indexer])\n",
    "\n",
    "            temp.sort()\n",
    "            data_final[i][j] = temp[len(temp) // 2]\n",
    "            temp = []\n",
    "    return data_final"
   ]
  },
  {
   "cell_type": "code",
   "execution_count": 25,
   "id": "c0788f91",
   "metadata": {},
   "outputs": [],
   "source": [
    "#convolution operation\n",
    "def convolution(frame, kernel):\n",
    "    image_h = frame.shape[0]\n",
    "    image_w = frame.shape[1]\n",
    "    kernel_h = kernel.shape[0]\n",
    "    kernel_w = kernel.shape[1]\n",
    "\n",
    "    if(len(frame.shape) == 3):\n",
    "        image_pad = np.pad(frame, pad_width=(\n",
    "            (kernel_h // 2, kernel_h // 2),(kernel_w // 2, kernel_w // 2),(0,0)), mode='constant', constant_values=0).astype(np.float32)\n",
    "    elif(len(frame.shape) == 2):\n",
    "        image_pad = np.pad(frame, pad_width=(\n",
    "            (kernel_h // 2, kernel_h // 2),(kernel_w // 2, kernel_w // 2)), mode='constant', constant_values=0).astype(np.float32)\n",
    "\n",
    "\n",
    "    h = kernel_h // 2\n",
    "    w = kernel_w // 2\n",
    "\n",
    "    image_conv = np.zeros(image_pad.shape)\n",
    "\n",
    "    for i in range(h, image_pad.shape[0]-h):\n",
    "        for j in range(w, image_pad.shape[1]-w):\n",
    "            #sum = 0\n",
    "            x = image_pad[i-h:i-h+kernel_h, j-w:j-w+kernel_w]\n",
    "            x = x.flatten()*kernel.flatten()\n",
    "            image_conv[i][j] = x.sum()\n",
    "    h_end = -h\n",
    "    w_end = -w\n",
    "\n",
    "    if(h == 0):\n",
    "        return image_conv[h:,w:w_end]\n",
    "    if(w == 0):\n",
    "        return image_conv[h:h_end,w:]\n",
    "\n",
    "    return image_conv[h:h_end,w:w_end]"
   ]
  },
  {
   "cell_type": "markdown",
   "id": "e0d34231",
   "metadata": {},
   "source": [
    "# Function to implement Gaussian Blur"
   ]
  },
  {
   "cell_type": "code",
   "execution_count": 33,
   "id": "5d112f70",
   "metadata": {},
   "outputs": [],
   "source": [
    "#Gaussian Noise\n",
    "def GaussianBlurImage(image, sigma):\n",
    "    #image = imread(image)\n",
    "    #image = Image.open(image)\n",
    "    image = np.asarray(image)\n",
    "    #print(image)\n",
    "    filter_size = 2 * int(4 * sigma + 0.5) + 1\n",
    "    gaussian_filter = np.zeros((filter_size, filter_size), np.float32)\n",
    "    m = filter_size//2\n",
    "    n = filter_size//2\n",
    "    \n",
    "    for x in range(-m, m+1):\n",
    "        for y in range(-n, n+1):\n",
    "            x1 = 2*np.pi*(sigma**2)\n",
    "            x2 = np.exp(-(x**2 + y**2)/(2* sigma**2))\n",
    "            gaussian_filter[x+m, y+n] = (1/x1)*x2\n",
    "    \n",
    "    im_filtered = np.zeros_like(image, dtype=np.float32)\n",
    "    for c in range(3):\n",
    "        im_filtered[:, :, c] = convolution(image[:, :, c], gaussian_filter)\n",
    "    return (im_filtered.astype(np.uint8))"
   ]
  },
  {
   "cell_type": "code",
   "execution_count": 34,
   "id": "bf7248ce",
   "metadata": {},
   "outputs": [
    {
     "name": "stdout",
     "output_type": "stream",
     "text": [
      "Denoising in progress...\n",
      "Completed\n"
     ]
    }
   ],
   "source": [
    "# Read the video from specified path\n",
    "cam = cv2.VideoCapture(\"noisyvideo.mp4\")\n",
    "  \n",
    "# frame\n",
    "currentframe = 0\n",
    "\n",
    "print(\"Denoising in progress...\")\n",
    "\n",
    "while(True):\n",
    "      \n",
    "    # reading from frame\n",
    "    ret,frame = cam.read()\n",
    "    #print(type(frame))\n",
    "  \n",
    "    if ret:\n",
    "        #arr = np.array(frame)\n",
    "        removed_noise = cv2.medianBlur(frame, 5) #filter size 5 \n",
    "        blur = GaussianBlurImage(removed_noise, 3) #filter size 3 \n",
    "        \n",
    "        \n",
    "        #write file\n",
    "        name = r\"C:\\Users\\sree\\Desktop\\Fastrack\\Image Processing\\DA-1\\smoothing\\frame\" + str(currentframe) + '.jpg'\n",
    "\n",
    "        # writing the extracted images\n",
    "        cv2.imwrite(name, blur)\n",
    "\n",
    "        currentframe+=1\n",
    "        \n",
    "    else:\n",
    "        break\n",
    "# Release all space and windows once done\n",
    "cam.release()\n",
    "cv2.destroyAllWindows()\n",
    "\n",
    "print(\"Completed\")"
   ]
  },
  {
   "cell_type": "code",
   "execution_count": 50,
   "id": "0033957c",
   "metadata": {},
   "outputs": [
    {
     "name": "stdout",
     "output_type": "stream",
     "text": [
      "Processing video file...\n"
     ]
    }
   ],
   "source": [
    "pathIn = r\"C:\\Users\\sree\\Desktop\\Fastrack\\Image Processing\\DA-1\\smoothing\\\\\"\n",
    "pathOut = \"result.mp4\"\n",
    "fps = 20.0\n",
    "print(\"Processing video file...\")\n",
    "convert_frames_to_video(pathIn,pathOut,fps)"
   ]
  },
  {
   "cell_type": "code",
   "execution_count": 51,
   "id": "3d1e1bf0",
   "metadata": {},
   "outputs": [
    {
     "data": {
      "text/html": [
       "<video src=\"result.mp4\" controls  >\n",
       "      Your browser does not support the <code>video</code> element.\n",
       "    </video>"
      ],
      "text/plain": [
       "<IPython.core.display.Video object>"
      ]
     },
     "execution_count": 51,
     "metadata": {},
     "output_type": "execute_result"
    }
   ],
   "source": [
    "Video(\"result.mp4\")"
   ]
  },
  {
   "cell_type": "code",
   "execution_count": null,
   "id": "f51f149c",
   "metadata": {},
   "outputs": [],
   "source": []
  }
 ],
 "metadata": {
  "kernelspec": {
   "display_name": "Python 3",
   "language": "python",
   "name": "python3"
  },
  "language_info": {
   "codemirror_mode": {
    "name": "ipython",
    "version": 3
   },
   "file_extension": ".py",
   "mimetype": "text/x-python",
   "name": "python",
   "nbconvert_exporter": "python",
   "pygments_lexer": "ipython3",
   "version": "3.8.8"
  }
 },
 "nbformat": 4,
 "nbformat_minor": 5
}
